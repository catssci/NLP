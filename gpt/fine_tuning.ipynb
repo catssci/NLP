{
 "cells": [
  {
   "cell_type": "code",
   "execution_count": null,
   "metadata": {},
   "outputs": [],
   "source": [
    "import pandas as pd\n",
    "import openai\n",
    "import re"
   ]
  },
  {
   "cell_type": "code",
   "execution_count": null,
   "metadata": {},
   "outputs": [],
   "source": [
    "blog = pd.read_csv('../groobee_data/grb_blog_crawl_v1.csv')"
   ]
  },
  {
   "cell_type": "code",
   "execution_count": null,
   "metadata": {},
   "outputs": [
    {
     "data": {
      "text/html": [
       "<div>\n",
       "<style scoped>\n",
       "    .dataframe tbody tr th:only-of-type {\n",
       "        vertical-align: middle;\n",
       "    }\n",
       "\n",
       "    .dataframe tbody tr th {\n",
       "        vertical-align: top;\n",
       "    }\n",
       "\n",
       "    .dataframe thead th {\n",
       "        text-align: right;\n",
       "    }\n",
       "</style>\n",
       "<table border=\"1\" class=\"dataframe\">\n",
       "  <thead>\n",
       "    <tr style=\"text-align: right;\">\n",
       "      <th></th>\n",
       "      <th>url_address</th>\n",
       "      <th>title</th>\n",
       "      <th>context</th>\n",
       "    </tr>\n",
       "  </thead>\n",
       "  <tbody>\n",
       "    <tr>\n",
       "      <th>0</th>\n",
       "      <td>https://groobee.net/2023/06/09/%eb%94%94%ec%a7...</td>\n",
       "      <td>[디지털데일리] 플래티어, AI 기반 초개인화 통한 이커머스 혁신 방법은?[디지털데...</td>\n",
       "      <td>\\n안녕하세요. 그루비입니다. 그루비가 지난 5월30일  IT전문 매체 &lt;디지털데일...</td>\n",
       "    </tr>\n",
       "    <tr>\n",
       "      <th>1</th>\n",
       "      <td>https://groobee.net/2023/06/07/%ea%b7%b8%eb%a3...</td>\n",
       "      <td>그루비, ‘이미지 기반 유사 상품 추천 서비스’ 기능 제공 소식!그루비, ‘이미지 ...</td>\n",
       "      <td>\\n\\n\\n그루비는 고객사분들이 최상의 쇼핑 경험을 제공할 수 있도록 추천 알고리즘...</td>\n",
       "    </tr>\n",
       "    <tr>\n",
       "      <th>2</th>\n",
       "      <td>https://groobee.net/2023/06/05/%eb%b8%94%eb%a1...</td>\n",
       "      <td>[블로터] 고객마다 쇼핑몰 페이지가 바뀐다, 플래티어 ‘그루비’[블로터] 고객마다 ...</td>\n",
       "      <td>\\n\\n\\n안녕하세요. 그루비입니다. 그루비가 지난 5월25일  IT전문 매체 &lt;블...</td>\n",
       "    </tr>\n",
       "    <tr>\n",
       "      <th>3</th>\n",
       "      <td>https://groobee.net/2023/05/31/%ec%88%8f%ed%8f...</td>\n",
       "      <td>숏폼 콘텐츠로 Z세대를 잡아라!숏폼 콘텐츠로 Z세대를 잡아라!</td>\n",
       "      <td>\\n최근 대학내일20대연구소의 조사 결과에 따르면, Z세대의 숏폼 콘텐츠 하루 평균...</td>\n",
       "    </tr>\n",
       "    <tr>\n",
       "      <th>4</th>\n",
       "      <td>https://groobee.net/2023/05/30/%ea%b7%b8%eb%a3...</td>\n",
       "      <td>그루비 5월 업데이트 알림(2): 2단계 인증(2FA) 추가그루비 5월 업데이트 알...</td>\n",
       "      <td>\\n⚡이번 업데이트로 다음과 같은 기능이 제공됩니다.\\n보안 강화를 위한 2단계 인...</td>\n",
       "    </tr>\n",
       "  </tbody>\n",
       "</table>\n",
       "</div>"
      ],
      "text/plain": [
       "                                         url_address  \\\n",
       "0  https://groobee.net/2023/06/09/%eb%94%94%ec%a7...   \n",
       "1  https://groobee.net/2023/06/07/%ea%b7%b8%eb%a3...   \n",
       "2  https://groobee.net/2023/06/05/%eb%b8%94%eb%a1...   \n",
       "3  https://groobee.net/2023/05/31/%ec%88%8f%ed%8f...   \n",
       "4  https://groobee.net/2023/05/30/%ea%b7%b8%eb%a3...   \n",
       "\n",
       "                                               title  \\\n",
       "0  [디지털데일리] 플래티어, AI 기반 초개인화 통한 이커머스 혁신 방법은?[디지털데...   \n",
       "1  그루비, ‘이미지 기반 유사 상품 추천 서비스’ 기능 제공 소식!그루비, ‘이미지 ...   \n",
       "2  [블로터] 고객마다 쇼핑몰 페이지가 바뀐다, 플래티어 ‘그루비’[블로터] 고객마다 ...   \n",
       "3                 숏폼 콘텐츠로 Z세대를 잡아라!숏폼 콘텐츠로 Z세대를 잡아라!   \n",
       "4  그루비 5월 업데이트 알림(2): 2단계 인증(2FA) 추가그루비 5월 업데이트 알...   \n",
       "\n",
       "                                             context  \n",
       "0  \\n안녕하세요. 그루비입니다. 그루비가 지난 5월30일  IT전문 매체 <디지털데일...  \n",
       "1  \\n\\n\\n그루비는 고객사분들이 최상의 쇼핑 경험을 제공할 수 있도록 추천 알고리즘...  \n",
       "2  \\n\\n\\n안녕하세요. 그루비입니다. 그루비가 지난 5월25일  IT전문 매체 <블...  \n",
       "3  \\n최근 대학내일20대연구소의 조사 결과에 따르면, Z세대의 숏폼 콘텐츠 하루 평균...  \n",
       "4  \\n⚡이번 업데이트로 다음과 같은 기능이 제공됩니다.\\n보안 강화를 위한 2단계 인...  "
      ]
     },
     "metadata": {},
     "output_type": "display_data"
    }
   ],
   "source": [
    "blog.head()"
   ]
  },
  {
   "cell_type": "code",
   "execution_count": null,
   "metadata": {},
   "outputs": [],
   "source": [
    "def time_split(url):\n",
    "    return url[20:30]\n",
    "blog['date'] = blog['url_address'].apply(time_split)"
   ]
  },
  {
   "cell_type": "code",
   "execution_count": null,
   "metadata": {},
   "outputs": [
    {
     "data": {
      "text/html": [
       "<div>\n",
       "<style scoped>\n",
       "    .dataframe tbody tr th:only-of-type {\n",
       "        vertical-align: middle;\n",
       "    }\n",
       "\n",
       "    .dataframe tbody tr th {\n",
       "        vertical-align: top;\n",
       "    }\n",
       "\n",
       "    .dataframe thead th {\n",
       "        text-align: right;\n",
       "    }\n",
       "</style>\n",
       "<table border=\"1\" class=\"dataframe\">\n",
       "  <thead>\n",
       "    <tr style=\"text-align: right;\">\n",
       "      <th></th>\n",
       "      <th>url_address</th>\n",
       "      <th>title</th>\n",
       "      <th>context</th>\n",
       "      <th>date</th>\n",
       "    </tr>\n",
       "  </thead>\n",
       "  <tbody>\n",
       "    <tr>\n",
       "      <th>0</th>\n",
       "      <td>https://groobee.net/2023/06/09/%eb%94%94%ec%a7...</td>\n",
       "      <td>[디지털데일리] 플래티어, AI 기반 초개인화 통한 이커머스 혁신 방법은?[디지털데...</td>\n",
       "      <td>\\n안녕하세요. 그루비입니다. 그루비가 지난 5월30일  IT전문 매체 &lt;디지털데일...</td>\n",
       "      <td>2023/06/09</td>\n",
       "    </tr>\n",
       "    <tr>\n",
       "      <th>1</th>\n",
       "      <td>https://groobee.net/2023/06/07/%ea%b7%b8%eb%a3...</td>\n",
       "      <td>그루비, ‘이미지 기반 유사 상품 추천 서비스’ 기능 제공 소식!그루비, ‘이미지 ...</td>\n",
       "      <td>\\n\\n\\n그루비는 고객사분들이 최상의 쇼핑 경험을 제공할 수 있도록 추천 알고리즘...</td>\n",
       "      <td>2023/06/07</td>\n",
       "    </tr>\n",
       "    <tr>\n",
       "      <th>2</th>\n",
       "      <td>https://groobee.net/2023/06/05/%eb%b8%94%eb%a1...</td>\n",
       "      <td>[블로터] 고객마다 쇼핑몰 페이지가 바뀐다, 플래티어 ‘그루비’[블로터] 고객마다 ...</td>\n",
       "      <td>\\n\\n\\n안녕하세요. 그루비입니다. 그루비가 지난 5월25일  IT전문 매체 &lt;블...</td>\n",
       "      <td>2023/06/05</td>\n",
       "    </tr>\n",
       "    <tr>\n",
       "      <th>3</th>\n",
       "      <td>https://groobee.net/2023/05/31/%ec%88%8f%ed%8f...</td>\n",
       "      <td>숏폼 콘텐츠로 Z세대를 잡아라!숏폼 콘텐츠로 Z세대를 잡아라!</td>\n",
       "      <td>\\n최근 대학내일20대연구소의 조사 결과에 따르면, Z세대의 숏폼 콘텐츠 하루 평균...</td>\n",
       "      <td>2023/05/31</td>\n",
       "    </tr>\n",
       "    <tr>\n",
       "      <th>4</th>\n",
       "      <td>https://groobee.net/2023/05/30/%ea%b7%b8%eb%a3...</td>\n",
       "      <td>그루비 5월 업데이트 알림(2): 2단계 인증(2FA) 추가그루비 5월 업데이트 알...</td>\n",
       "      <td>\\n⚡이번 업데이트로 다음과 같은 기능이 제공됩니다.\\n보안 강화를 위한 2단계 인...</td>\n",
       "      <td>2023/05/30</td>\n",
       "    </tr>\n",
       "  </tbody>\n",
       "</table>\n",
       "</div>"
      ],
      "text/plain": [
       "                                         url_address  \\\n",
       "0  https://groobee.net/2023/06/09/%eb%94%94%ec%a7...   \n",
       "1  https://groobee.net/2023/06/07/%ea%b7%b8%eb%a3...   \n",
       "2  https://groobee.net/2023/06/05/%eb%b8%94%eb%a1...   \n",
       "3  https://groobee.net/2023/05/31/%ec%88%8f%ed%8f...   \n",
       "4  https://groobee.net/2023/05/30/%ea%b7%b8%eb%a3...   \n",
       "\n",
       "                                               title  \\\n",
       "0  [디지털데일리] 플래티어, AI 기반 초개인화 통한 이커머스 혁신 방법은?[디지털데...   \n",
       "1  그루비, ‘이미지 기반 유사 상품 추천 서비스’ 기능 제공 소식!그루비, ‘이미지 ...   \n",
       "2  [블로터] 고객마다 쇼핑몰 페이지가 바뀐다, 플래티어 ‘그루비’[블로터] 고객마다 ...   \n",
       "3                 숏폼 콘텐츠로 Z세대를 잡아라!숏폼 콘텐츠로 Z세대를 잡아라!   \n",
       "4  그루비 5월 업데이트 알림(2): 2단계 인증(2FA) 추가그루비 5월 업데이트 알...   \n",
       "\n",
       "                                             context        date  \n",
       "0  \\n안녕하세요. 그루비입니다. 그루비가 지난 5월30일  IT전문 매체 <디지털데일...  2023/06/09  \n",
       "1  \\n\\n\\n그루비는 고객사분들이 최상의 쇼핑 경험을 제공할 수 있도록 추천 알고리즘...  2023/06/07  \n",
       "2  \\n\\n\\n안녕하세요. 그루비입니다. 그루비가 지난 5월25일  IT전문 매체 <블...  2023/06/05  \n",
       "3  \\n최근 대학내일20대연구소의 조사 결과에 따르면, Z세대의 숏폼 콘텐츠 하루 평균...  2023/05/31  \n",
       "4  \\n⚡이번 업데이트로 다음과 같은 기능이 제공됩니다.\\n보안 강화를 위한 2단계 인...  2023/05/30  "
      ]
     },
     "metadata": {},
     "output_type": "display_data"
    }
   ],
   "source": [
    "blog.head()"
   ]
  },
  {
   "cell_type": "code",
   "execution_count": null,
   "metadata": {},
   "outputs": [],
   "source": [
    "\n",
    "blog['context'] = blog['context'].apply(lambda x: x.replace('그루비에 대해 좀 더 알고 싶어지셨다면? 문의 남겨주세요', ''))\n",
    "blog['context'] = blog['context'].apply(lambda x: x.replace('Order Number', ''))\n",
    "blog['context'] = blog['context'].apply(lambda x: x.replace('Company', ''))\n",
    "blog['context'] = blog['context'].apply(lambda x: re.sub('\\n\\n+', '\\n\\n', x))"
   ]
  },
  {
   "cell_type": "code",
   "execution_count": null,
   "metadata": {},
   "outputs": [],
   "source": [
    "data = blog"
   ]
  },
  {
   "cell_type": "code",
   "execution_count": null,
   "metadata": {},
   "outputs": [
    {
     "data": {
      "text/html": [
       "<div>\n",
       "<style scoped>\n",
       "    .dataframe tbody tr th:only-of-type {\n",
       "        vertical-align: middle;\n",
       "    }\n",
       "\n",
       "    .dataframe tbody tr th {\n",
       "        vertical-align: top;\n",
       "    }\n",
       "\n",
       "    .dataframe thead th {\n",
       "        text-align: right;\n",
       "    }\n",
       "</style>\n",
       "<table border=\"1\" class=\"dataframe\">\n",
       "  <thead>\n",
       "    <tr style=\"text-align: right;\">\n",
       "      <th></th>\n",
       "      <th>url_address</th>\n",
       "      <th>title</th>\n",
       "      <th>context</th>\n",
       "      <th>date</th>\n",
       "    </tr>\n",
       "  </thead>\n",
       "  <tbody>\n",
       "    <tr>\n",
       "      <th>0</th>\n",
       "      <td>https://groobee.net/2023/06/09/%eb%94%94%ec%a7...</td>\n",
       "      <td>[디지털데일리] 플래티어, AI 기반 초개인화 통한 이커머스 혁신 방법은?[디지털데...</td>\n",
       "      <td>\\n안녕하세요. 그루비입니다. 그루비가 지난 5월30일  IT전문 매체 &lt;디지털데일...</td>\n",
       "      <td>2023/06/09</td>\n",
       "    </tr>\n",
       "    <tr>\n",
       "      <th>1</th>\n",
       "      <td>https://groobee.net/2023/06/07/%ea%b7%b8%eb%a3...</td>\n",
       "      <td>그루비, ‘이미지 기반 유사 상품 추천 서비스’ 기능 제공 소식!그루비, ‘이미지 ...</td>\n",
       "      <td>\\n\\n그루비는 고객사분들이 최상의 쇼핑 경험을 제공할 수 있도록 추천 알고리즘 고...</td>\n",
       "      <td>2023/06/07</td>\n",
       "    </tr>\n",
       "    <tr>\n",
       "      <th>2</th>\n",
       "      <td>https://groobee.net/2023/06/05/%eb%b8%94%eb%a1...</td>\n",
       "      <td>[블로터] 고객마다 쇼핑몰 페이지가 바뀐다, 플래티어 ‘그루비’[블로터] 고객마다 ...</td>\n",
       "      <td>\\n\\n안녕하세요. 그루비입니다. 그루비가 지난 5월25일  IT전문 매체 &lt;블로터...</td>\n",
       "      <td>2023/06/05</td>\n",
       "    </tr>\n",
       "    <tr>\n",
       "      <th>3</th>\n",
       "      <td>https://groobee.net/2023/05/31/%ec%88%8f%ed%8f...</td>\n",
       "      <td>숏폼 콘텐츠로 Z세대를 잡아라!숏폼 콘텐츠로 Z세대를 잡아라!</td>\n",
       "      <td>\\n최근 대학내일20대연구소의 조사 결과에 따르면, Z세대의 숏폼 콘텐츠 하루 평균...</td>\n",
       "      <td>2023/05/31</td>\n",
       "    </tr>\n",
       "    <tr>\n",
       "      <th>4</th>\n",
       "      <td>https://groobee.net/2023/05/30/%ea%b7%b8%eb%a3...</td>\n",
       "      <td>그루비 5월 업데이트 알림(2): 2단계 인증(2FA) 추가그루비 5월 업데이트 알...</td>\n",
       "      <td>\\n⚡이번 업데이트로 다음과 같은 기능이 제공됩니다.\\n보안 강화를 위한 2단계 인...</td>\n",
       "      <td>2023/05/30</td>\n",
       "    </tr>\n",
       "  </tbody>\n",
       "</table>\n",
       "</div>"
      ],
      "text/plain": [
       "                                         url_address  \\\n",
       "0  https://groobee.net/2023/06/09/%eb%94%94%ec%a7...   \n",
       "1  https://groobee.net/2023/06/07/%ea%b7%b8%eb%a3...   \n",
       "2  https://groobee.net/2023/06/05/%eb%b8%94%eb%a1...   \n",
       "3  https://groobee.net/2023/05/31/%ec%88%8f%ed%8f...   \n",
       "4  https://groobee.net/2023/05/30/%ea%b7%b8%eb%a3...   \n",
       "\n",
       "                                               title  \\\n",
       "0  [디지털데일리] 플래티어, AI 기반 초개인화 통한 이커머스 혁신 방법은?[디지털데...   \n",
       "1  그루비, ‘이미지 기반 유사 상품 추천 서비스’ 기능 제공 소식!그루비, ‘이미지 ...   \n",
       "2  [블로터] 고객마다 쇼핑몰 페이지가 바뀐다, 플래티어 ‘그루비’[블로터] 고객마다 ...   \n",
       "3                 숏폼 콘텐츠로 Z세대를 잡아라!숏폼 콘텐츠로 Z세대를 잡아라!   \n",
       "4  그루비 5월 업데이트 알림(2): 2단계 인증(2FA) 추가그루비 5월 업데이트 알...   \n",
       "\n",
       "                                             context        date  \n",
       "0  \\n안녕하세요. 그루비입니다. 그루비가 지난 5월30일  IT전문 매체 <디지털데일...  2023/06/09  \n",
       "1  \\n\\n그루비는 고객사분들이 최상의 쇼핑 경험을 제공할 수 있도록 추천 알고리즘 고...  2023/06/07  \n",
       "2  \\n\\n안녕하세요. 그루비입니다. 그루비가 지난 5월25일  IT전문 매체 <블로터...  2023/06/05  \n",
       "3  \\n최근 대학내일20대연구소의 조사 결과에 따르면, Z세대의 숏폼 콘텐츠 하루 평균...  2023/05/31  \n",
       "4  \\n⚡이번 업데이트로 다음과 같은 기능이 제공됩니다.\\n보안 강화를 위한 2단계 인...  2023/05/30  "
      ]
     },
     "metadata": {},
     "output_type": "display_data"
    }
   ],
   "source": [
    "data.head()"
   ]
  },
  {
   "cell_type": "code",
   "execution_count": null,
   "metadata": {},
   "outputs": [],
   "source": [
    "def content_summary(content):\n",
    "    try:\n",
    "        messages = [{\"role\": \"user\", \"content\": \"다음 문장을 요약해줘\"},\n",
    "            {'role': 'assistant', 'content': f\"문장: {content}\\n\\n\"},\n",
    "            {\"role\": \"user\", \"content\": \"요약문: \"}\n",
    "            ]\n",
    "    \n",
    "        completion = openai.ChatCompletion.create(model = 'gpt-3.5-turbo', messages = messages)\n",
    "        \n",
    "        return completion['choices'][0].message['content'].strip()\n",
    "    \n",
    "    except:\n",
    "        return \"\""
   ]
  },
  {
   "cell_type": "code",
   "execution_count": null,
   "metadata": {},
   "outputs": [],
   "source": [
    "data['content_summary'] = data.context.apply(content_summary)"
   ]
  },
  {
   "cell_type": "code",
   "execution_count": null,
   "metadata": {},
   "outputs": [
    {
     "data": {
      "text/html": [
       "<div>\n",
       "<style scoped>\n",
       "    .dataframe tbody tr th:only-of-type {\n",
       "        vertical-align: middle;\n",
       "    }\n",
       "\n",
       "    .dataframe tbody tr th {\n",
       "        vertical-align: top;\n",
       "    }\n",
       "\n",
       "    .dataframe thead th {\n",
       "        text-align: right;\n",
       "    }\n",
       "</style>\n",
       "<table border=\"1\" class=\"dataframe\">\n",
       "  <thead>\n",
       "    <tr style=\"text-align: right;\">\n",
       "      <th></th>\n",
       "      <th>url_address</th>\n",
       "      <th>title</th>\n",
       "      <th>context</th>\n",
       "      <th>date</th>\n",
       "      <th>content_summary</th>\n",
       "    </tr>\n",
       "  </thead>\n",
       "  <tbody>\n",
       "    <tr>\n",
       "      <th>0</th>\n",
       "      <td>https://groobee.net/2023/06/09/%eb%94%94%ec%a7...</td>\n",
       "      <td>[디지털데일리] 플래티어, AI 기반 초개인화 통한 이커머스 혁신 방법은?[디지털데...</td>\n",
       "      <td>\\n안녕하세요. 그루비입니다. 그루비가 지난 5월30일  IT전문 매체 &lt;디지털데일...</td>\n",
       "      <td>2023/06/09</td>\n",
       "      <td>그루비는 AI 기반의 초개인화 마케팅을 제공하는 전문 솔루션으로 D2C 브랜드 및 ...</td>\n",
       "    </tr>\n",
       "    <tr>\n",
       "      <th>1</th>\n",
       "      <td>https://groobee.net/2023/06/07/%ea%b7%b8%eb%a3...</td>\n",
       "      <td>그루비, ‘이미지 기반 유사 상품 추천 서비스’ 기능 제공 소식!그루비, ‘이미지 ...</td>\n",
       "      <td>\\n\\n그루비는 고객사분들이 최상의 쇼핑 경험을 제공할 수 있도록 추천 알고리즘 고...</td>\n",
       "      <td>2023/06/07</td>\n",
       "      <td>한국의 온라인 쇼핑몰 그루비는 선호 데이터가 없는 경우 ‘상품 이미지’만을 이용해 ...</td>\n",
       "    </tr>\n",
       "    <tr>\n",
       "      <th>2</th>\n",
       "      <td>https://groobee.net/2023/06/05/%eb%b8%94%eb%a1...</td>\n",
       "      <td>[블로터] 고객마다 쇼핑몰 페이지가 바뀐다, 플래티어 ‘그루비’[블로터] 고객마다 ...</td>\n",
       "      <td>\\n\\n안녕하세요. 그루비입니다. 그루비가 지난 5월25일  IT전문 매체 &lt;블로터...</td>\n",
       "      <td>2023/06/05</td>\n",
       "      <td>그루비는 IT전문 매체 &lt;블로터&gt;에 실려 \"다이내믹 UI\"기능을 통해 고객의 행동 ...</td>\n",
       "    </tr>\n",
       "    <tr>\n",
       "      <th>3</th>\n",
       "      <td>https://groobee.net/2023/05/31/%ec%88%8f%ed%8f...</td>\n",
       "      <td>숏폼 콘텐츠로 Z세대를 잡아라!숏폼 콘텐츠로 Z세대를 잡아라!</td>\n",
       "      <td>\\n최근 대학내일20대연구소의 조사 결과에 따르면, Z세대의 숏폼 콘텐츠 하루 평균...</td>\n",
       "      <td>2023/05/31</td>\n",
       "      <td>최근 대학내일20대연구소의 조사 결과에 따르면, Z세대의 숏폼 콘텐츠 하루 평균 시...</td>\n",
       "    </tr>\n",
       "    <tr>\n",
       "      <th>4</th>\n",
       "      <td>https://groobee.net/2023/05/30/%ea%b7%b8%eb%a3...</td>\n",
       "      <td>그루비 5월 업데이트 알림(2): 2단계 인증(2FA) 추가그루비 5월 업데이트 알...</td>\n",
       "      <td>\\n⚡이번 업데이트로 다음과 같은 기능이 제공됩니다.\\n보안 강화를 위한 2단계 인...</td>\n",
       "      <td>2023/05/30</td>\n",
       "      <td>그루비의 업데이트로 2단계 인증(2FA) 기능이 추가되어 보안이 더욱 강화됐다. G...</td>\n",
       "    </tr>\n",
       "  </tbody>\n",
       "</table>\n",
       "</div>"
      ],
      "text/plain": [
       "                                         url_address  \\\n",
       "0  https://groobee.net/2023/06/09/%eb%94%94%ec%a7...   \n",
       "1  https://groobee.net/2023/06/07/%ea%b7%b8%eb%a3...   \n",
       "2  https://groobee.net/2023/06/05/%eb%b8%94%eb%a1...   \n",
       "3  https://groobee.net/2023/05/31/%ec%88%8f%ed%8f...   \n",
       "4  https://groobee.net/2023/05/30/%ea%b7%b8%eb%a3...   \n",
       "\n",
       "                                               title  \\\n",
       "0  [디지털데일리] 플래티어, AI 기반 초개인화 통한 이커머스 혁신 방법은?[디지털데...   \n",
       "1  그루비, ‘이미지 기반 유사 상품 추천 서비스’ 기능 제공 소식!그루비, ‘이미지 ...   \n",
       "2  [블로터] 고객마다 쇼핑몰 페이지가 바뀐다, 플래티어 ‘그루비’[블로터] 고객마다 ...   \n",
       "3                 숏폼 콘텐츠로 Z세대를 잡아라!숏폼 콘텐츠로 Z세대를 잡아라!   \n",
       "4  그루비 5월 업데이트 알림(2): 2단계 인증(2FA) 추가그루비 5월 업데이트 알...   \n",
       "\n",
       "                                             context        date  \\\n",
       "0  \\n안녕하세요. 그루비입니다. 그루비가 지난 5월30일  IT전문 매체 <디지털데일...  2023/06/09   \n",
       "1  \\n\\n그루비는 고객사분들이 최상의 쇼핑 경험을 제공할 수 있도록 추천 알고리즘 고...  2023/06/07   \n",
       "2  \\n\\n안녕하세요. 그루비입니다. 그루비가 지난 5월25일  IT전문 매체 <블로터...  2023/06/05   \n",
       "3  \\n최근 대학내일20대연구소의 조사 결과에 따르면, Z세대의 숏폼 콘텐츠 하루 평균...  2023/05/31   \n",
       "4  \\n⚡이번 업데이트로 다음과 같은 기능이 제공됩니다.\\n보안 강화를 위한 2단계 인...  2023/05/30   \n",
       "\n",
       "                                     content_summary  \n",
       "0  그루비는 AI 기반의 초개인화 마케팅을 제공하는 전문 솔루션으로 D2C 브랜드 및 ...  \n",
       "1  한국의 온라인 쇼핑몰 그루비는 선호 데이터가 없는 경우 ‘상품 이미지’만을 이용해 ...  \n",
       "2  그루비는 IT전문 매체 <블로터>에 실려 \"다이내믹 UI\"기능을 통해 고객의 행동 ...  \n",
       "3  최근 대학내일20대연구소의 조사 결과에 따르면, Z세대의 숏폼 콘텐츠 하루 평균 시...  \n",
       "4  그루비의 업데이트로 2단계 인증(2FA) 기능이 추가되어 보안이 더욱 강화됐다. G...  "
      ]
     },
     "metadata": {},
     "output_type": "display_data"
    }
   ],
   "source": [
    "data.head()"
   ]
  },
  {
   "cell_type": "code",
   "execution_count": null,
   "metadata": {},
   "outputs": [],
   "source": [
    "data['context_summary'] = data.title + \"\\n\" + data['date'] + \"\\n\\n\" + data.content_summary"
   ]
  },
  {
   "cell_type": "code",
   "execution_count": null,
   "metadata": {},
   "outputs": [
    {
     "name": "stderr",
     "output_type": "stream",
     "text": [
      "/Users/gimtaegong/opt/anaconda3/envs/project/lib/python3.11/site-packages/tqdm/auto.py:21: TqdmWarning: IProgress not found. Please update jupyter and ipywidgets. See https://ipywidgets.readthedocs.io/en/stable/user_install.html\n",
      "  from .autonotebook import tqdm as notebook_tqdm\n"
     ]
    }
   ],
   "source": [
    "from transformers import GPT2TokenizerFast\n",
    "\n",
    "tokenizer = GPT2TokenizerFast.from_pretrained(\"gpt2\")\n",
    "\n",
    "def count_tokens(text: str) -> int:\n",
    "    \"\"\"count the number of tokens in a string\"\"\"\n",
    "    return len(tokenizer.encode(text))"
   ]
  },
  {
   "cell_type": "code",
   "execution_count": null,
   "metadata": {},
   "outputs": [],
   "source": [
    "data['tokens'] = data.context_summary.apply(count_tokens)"
   ]
  },
  {
   "cell_type": "code",
   "execution_count": null,
   "metadata": {},
   "outputs": [
    {
     "data": {
      "text/html": [
       "<div>\n",
       "<style scoped>\n",
       "    .dataframe tbody tr th:only-of-type {\n",
       "        vertical-align: middle;\n",
       "    }\n",
       "\n",
       "    .dataframe tbody tr th {\n",
       "        vertical-align: top;\n",
       "    }\n",
       "\n",
       "    .dataframe thead th {\n",
       "        text-align: right;\n",
       "    }\n",
       "</style>\n",
       "<table border=\"1\" class=\"dataframe\">\n",
       "  <thead>\n",
       "    <tr style=\"text-align: right;\">\n",
       "      <th></th>\n",
       "      <th>url_address</th>\n",
       "      <th>title</th>\n",
       "      <th>context</th>\n",
       "      <th>date</th>\n",
       "      <th>content_summary</th>\n",
       "      <th>context_summary</th>\n",
       "      <th>tokens</th>\n",
       "    </tr>\n",
       "  </thead>\n",
       "  <tbody>\n",
       "    <tr>\n",
       "      <th>0</th>\n",
       "      <td>https://groobee.net/2023/06/09/%eb%94%94%ec%a7...</td>\n",
       "      <td>[디지털데일리] 플래티어, AI 기반 초개인화 통한 이커머스 혁신 방법은?[디지털데...</td>\n",
       "      <td>\\n안녕하세요. 그루비입니다. 그루비가 지난 5월30일  IT전문 매체 &lt;디지털데일...</td>\n",
       "      <td>2023/06/09</td>\n",
       "      <td>그루비는 AI 기반의 초개인화 마케팅을 제공하는 전문 솔루션으로 D2C 브랜드 및 ...</td>\n",
       "      <td>[디지털데일리] 플래티어, AI 기반 초개인화 통한 이커머스 혁신 방법은?[디지털데...</td>\n",
       "      <td>791</td>\n",
       "    </tr>\n",
       "    <tr>\n",
       "      <th>1</th>\n",
       "      <td>https://groobee.net/2023/06/07/%ea%b7%b8%eb%a3...</td>\n",
       "      <td>그루비, ‘이미지 기반 유사 상품 추천 서비스’ 기능 제공 소식!그루비, ‘이미지 ...</td>\n",
       "      <td>\\n\\n그루비는 고객사분들이 최상의 쇼핑 경험을 제공할 수 있도록 추천 알고리즘 고...</td>\n",
       "      <td>2023/06/07</td>\n",
       "      <td>한국의 온라인 쇼핑몰 그루비는 선호 데이터가 없는 경우 ‘상품 이미지’만을 이용해 ...</td>\n",
       "      <td>그루비, ‘이미지 기반 유사 상품 추천 서비스’ 기능 제공 소식!그루비, ‘이미지 ...</td>\n",
       "      <td>686</td>\n",
       "    </tr>\n",
       "    <tr>\n",
       "      <th>2</th>\n",
       "      <td>https://groobee.net/2023/06/05/%eb%b8%94%eb%a1...</td>\n",
       "      <td>[블로터] 고객마다 쇼핑몰 페이지가 바뀐다, 플래티어 ‘그루비’[블로터] 고객마다 ...</td>\n",
       "      <td>\\n\\n안녕하세요. 그루비입니다. 그루비가 지난 5월25일  IT전문 매체 &lt;블로터...</td>\n",
       "      <td>2023/06/05</td>\n",
       "      <td>그루비는 IT전문 매체 &lt;블로터&gt;에 실려 \"다이내믹 UI\"기능을 통해 고객의 행동 ...</td>\n",
       "      <td>[블로터] 고객마다 쇼핑몰 페이지가 바뀐다, 플래티어 ‘그루비’[블로터] 고객마다 ...</td>\n",
       "      <td>705</td>\n",
       "    </tr>\n",
       "    <tr>\n",
       "      <th>3</th>\n",
       "      <td>https://groobee.net/2023/05/31/%ec%88%8f%ed%8f...</td>\n",
       "      <td>숏폼 콘텐츠로 Z세대를 잡아라!숏폼 콘텐츠로 Z세대를 잡아라!</td>\n",
       "      <td>\\n최근 대학내일20대연구소의 조사 결과에 따르면, Z세대의 숏폼 콘텐츠 하루 평균...</td>\n",
       "      <td>2023/05/31</td>\n",
       "      <td>최근 대학내일20대연구소의 조사 결과에 따르면, Z세대의 숏폼 콘텐츠 하루 평균 시...</td>\n",
       "      <td>숏폼 콘텐츠로 Z세대를 잡아라!숏폼 콘텐츠로 Z세대를 잡아라!\\n2023/05/31...</td>\n",
       "      <td>612</td>\n",
       "    </tr>\n",
       "    <tr>\n",
       "      <th>4</th>\n",
       "      <td>https://groobee.net/2023/05/30/%ea%b7%b8%eb%a3...</td>\n",
       "      <td>그루비 5월 업데이트 알림(2): 2단계 인증(2FA) 추가그루비 5월 업데이트 알...</td>\n",
       "      <td>\\n⚡이번 업데이트로 다음과 같은 기능이 제공됩니다.\\n보안 강화를 위한 2단계 인...</td>\n",
       "      <td>2023/05/30</td>\n",
       "      <td>그루비의 업데이트로 2단계 인증(2FA) 기능이 추가되어 보안이 더욱 강화됐다. G...</td>\n",
       "      <td>그루비 5월 업데이트 알림(2): 2단계 인증(2FA) 추가그루비 5월 업데이트 알...</td>\n",
       "      <td>518</td>\n",
       "    </tr>\n",
       "  </tbody>\n",
       "</table>\n",
       "</div>"
      ],
      "text/plain": [
       "                                         url_address  \\\n",
       "0  https://groobee.net/2023/06/09/%eb%94%94%ec%a7...   \n",
       "1  https://groobee.net/2023/06/07/%ea%b7%b8%eb%a3...   \n",
       "2  https://groobee.net/2023/06/05/%eb%b8%94%eb%a1...   \n",
       "3  https://groobee.net/2023/05/31/%ec%88%8f%ed%8f...   \n",
       "4  https://groobee.net/2023/05/30/%ea%b7%b8%eb%a3...   \n",
       "\n",
       "                                               title  \\\n",
       "0  [디지털데일리] 플래티어, AI 기반 초개인화 통한 이커머스 혁신 방법은?[디지털데...   \n",
       "1  그루비, ‘이미지 기반 유사 상품 추천 서비스’ 기능 제공 소식!그루비, ‘이미지 ...   \n",
       "2  [블로터] 고객마다 쇼핑몰 페이지가 바뀐다, 플래티어 ‘그루비’[블로터] 고객마다 ...   \n",
       "3                 숏폼 콘텐츠로 Z세대를 잡아라!숏폼 콘텐츠로 Z세대를 잡아라!   \n",
       "4  그루비 5월 업데이트 알림(2): 2단계 인증(2FA) 추가그루비 5월 업데이트 알...   \n",
       "\n",
       "                                             context        date  \\\n",
       "0  \\n안녕하세요. 그루비입니다. 그루비가 지난 5월30일  IT전문 매체 <디지털데일...  2023/06/09   \n",
       "1  \\n\\n그루비는 고객사분들이 최상의 쇼핑 경험을 제공할 수 있도록 추천 알고리즘 고...  2023/06/07   \n",
       "2  \\n\\n안녕하세요. 그루비입니다. 그루비가 지난 5월25일  IT전문 매체 <블로터...  2023/06/05   \n",
       "3  \\n최근 대학내일20대연구소의 조사 결과에 따르면, Z세대의 숏폼 콘텐츠 하루 평균...  2023/05/31   \n",
       "4  \\n⚡이번 업데이트로 다음과 같은 기능이 제공됩니다.\\n보안 강화를 위한 2단계 인...  2023/05/30   \n",
       "\n",
       "                                     content_summary  \\\n",
       "0  그루비는 AI 기반의 초개인화 마케팅을 제공하는 전문 솔루션으로 D2C 브랜드 및 ...   \n",
       "1  한국의 온라인 쇼핑몰 그루비는 선호 데이터가 없는 경우 ‘상품 이미지’만을 이용해 ...   \n",
       "2  그루비는 IT전문 매체 <블로터>에 실려 \"다이내믹 UI\"기능을 통해 고객의 행동 ...   \n",
       "3  최근 대학내일20대연구소의 조사 결과에 따르면, Z세대의 숏폼 콘텐츠 하루 평균 시...   \n",
       "4  그루비의 업데이트로 2단계 인증(2FA) 기능이 추가되어 보안이 더욱 강화됐다. G...   \n",
       "\n",
       "                                     context_summary  tokens  \n",
       "0  [디지털데일리] 플래티어, AI 기반 초개인화 통한 이커머스 혁신 방법은?[디지털데...     791  \n",
       "1  그루비, ‘이미지 기반 유사 상품 추천 서비스’ 기능 제공 소식!그루비, ‘이미지 ...     686  \n",
       "2  [블로터] 고객마다 쇼핑몰 페이지가 바뀐다, 플래티어 ‘그루비’[블로터] 고객마다 ...     705  \n",
       "3  숏폼 콘텐츠로 Z세대를 잡아라!숏폼 콘텐츠로 Z세대를 잡아라!\\n2023/05/31...     612  \n",
       "4  그루비 5월 업데이트 알림(2): 2단계 인증(2FA) 추가그루비 5월 업데이트 알...     518  "
      ]
     },
     "metadata": {},
     "output_type": "display_data"
    }
   ],
   "source": [
    "data.head()"
   ]
  },
  {
   "cell_type": "code",
   "execution_count": null,
   "metadata": {},
   "outputs": [],
   "source": [
    "def get_questions_turbo(context):\n",
    "    try:\n",
    "        messages = [{\"role\": \"user\", \"content\": \"다음 문장에서 질문 10개를 만들어줘\"},\n",
    "            {'role': 'assistant', 'content': f\"문장: {context}\\n\\n\"},\n",
    "            {\"role\": \"user\", \"content\": \"질문: 1.\"},\n",
    "            {\"role\": \"user\", \"content\": \"질문: 2.\"},\n",
    "            {\"role\": \"user\", \"content\": \"질문: 3.\"},\n",
    "            {\"role\": \"user\", \"content\": \"질문: 4.\"},\n",
    "            {\"role\": \"user\", \"content\": \"질문: 5.\"},\n",
    "            {\"role\": \"user\", \"content\": \"질문: 6.\"},\n",
    "            {\"role\": \"user\", \"content\": \"질문: 7.\"},\n",
    "            {\"role\": \"user\", \"content\": \"질문: 8.\"},\n",
    "            {\"role\": \"user\", \"content\": \"질문: 9.\"},\n",
    "            {\"role\": \"user\", \"content\": \"질문: 10.\"}\n",
    "            ]\n",
    "    \n",
    "        completion = openai.ChatCompletion.create(model = 'gpt-3.5-turbo', messages = messages)\n",
    "        \n",
    "        return completion['choices'][0].message['content'].strip()\n",
    "    \n",
    "    except:\n",
    "        return \"\""
   ]
  },
  {
   "cell_type": "code",
   "execution_count": null,
   "metadata": {},
   "outputs": [],
   "source": [
    "data['questions']= data.context_summary.apply(get_questions_turbo)"
   ]
  },
  {
   "cell_type": "code",
   "execution_count": null,
   "metadata": {},
   "outputs": [
    {
     "data": {
      "text/html": [
       "<div>\n",
       "<style scoped>\n",
       "    .dataframe tbody tr th:only-of-type {\n",
       "        vertical-align: middle;\n",
       "    }\n",
       "\n",
       "    .dataframe tbody tr th {\n",
       "        vertical-align: top;\n",
       "    }\n",
       "\n",
       "    .dataframe thead th {\n",
       "        text-align: right;\n",
       "    }\n",
       "</style>\n",
       "<table border=\"1\" class=\"dataframe\">\n",
       "  <thead>\n",
       "    <tr style=\"text-align: right;\">\n",
       "      <th></th>\n",
       "      <th>url_address</th>\n",
       "      <th>title</th>\n",
       "      <th>context</th>\n",
       "      <th>date</th>\n",
       "      <th>content_summary</th>\n",
       "      <th>context_summary</th>\n",
       "      <th>tokens</th>\n",
       "    </tr>\n",
       "  </thead>\n",
       "  <tbody>\n",
       "    <tr>\n",
       "      <th>0</th>\n",
       "      <td>https://groobee.net/2023/06/09/%eb%94%94%ec%a7...</td>\n",
       "      <td>[디지털데일리] 플래티어, AI 기반 초개인화 통한 이커머스 혁신 방법은?[디지털데...</td>\n",
       "      <td>\\n안녕하세요. 그루비입니다. 그루비가 지난 5월30일  IT전문 매체 &lt;디지털데일...</td>\n",
       "      <td>2023/06/09</td>\n",
       "      <td>그루비는 AI 기반의 초개인화 마케팅을 제공하는 전문 솔루션으로 D2C 브랜드 및 ...</td>\n",
       "      <td>[디지털데일리] 플래티어, AI 기반 초개인화 통한 이커머스 혁신 방법은?[디지털데...</td>\n",
       "      <td>791</td>\n",
       "    </tr>\n",
       "    <tr>\n",
       "      <th>1</th>\n",
       "      <td>https://groobee.net/2023/06/07/%ea%b7%b8%eb%a3...</td>\n",
       "      <td>그루비, ‘이미지 기반 유사 상품 추천 서비스’ 기능 제공 소식!그루비, ‘이미지 ...</td>\n",
       "      <td>\\n\\n그루비는 고객사분들이 최상의 쇼핑 경험을 제공할 수 있도록 추천 알고리즘 고...</td>\n",
       "      <td>2023/06/07</td>\n",
       "      <td>한국의 온라인 쇼핑몰 그루비는 선호 데이터가 없는 경우 ‘상품 이미지’만을 이용해 ...</td>\n",
       "      <td>그루비, ‘이미지 기반 유사 상품 추천 서비스’ 기능 제공 소식!그루비, ‘이미지 ...</td>\n",
       "      <td>686</td>\n",
       "    </tr>\n",
       "    <tr>\n",
       "      <th>2</th>\n",
       "      <td>https://groobee.net/2023/06/05/%eb%b8%94%eb%a1...</td>\n",
       "      <td>[블로터] 고객마다 쇼핑몰 페이지가 바뀐다, 플래티어 ‘그루비’[블로터] 고객마다 ...</td>\n",
       "      <td>\\n\\n안녕하세요. 그루비입니다. 그루비가 지난 5월25일  IT전문 매체 &lt;블로터...</td>\n",
       "      <td>2023/06/05</td>\n",
       "      <td>그루비는 IT전문 매체 &lt;블로터&gt;에 실려 \"다이내믹 UI\"기능을 통해 고객의 행동 ...</td>\n",
       "      <td>[블로터] 고객마다 쇼핑몰 페이지가 바뀐다, 플래티어 ‘그루비’[블로터] 고객마다 ...</td>\n",
       "      <td>705</td>\n",
       "    </tr>\n",
       "    <tr>\n",
       "      <th>3</th>\n",
       "      <td>https://groobee.net/2023/05/31/%ec%88%8f%ed%8f...</td>\n",
       "      <td>숏폼 콘텐츠로 Z세대를 잡아라!숏폼 콘텐츠로 Z세대를 잡아라!</td>\n",
       "      <td>\\n최근 대학내일20대연구소의 조사 결과에 따르면, Z세대의 숏폼 콘텐츠 하루 평균...</td>\n",
       "      <td>2023/05/31</td>\n",
       "      <td>최근 대학내일20대연구소의 조사 결과에 따르면, Z세대의 숏폼 콘텐츠 하루 평균 시...</td>\n",
       "      <td>숏폼 콘텐츠로 Z세대를 잡아라!숏폼 콘텐츠로 Z세대를 잡아라!\\n2023/05/31...</td>\n",
       "      <td>612</td>\n",
       "    </tr>\n",
       "    <tr>\n",
       "      <th>4</th>\n",
       "      <td>https://groobee.net/2023/05/30/%ea%b7%b8%eb%a3...</td>\n",
       "      <td>그루비 5월 업데이트 알림(2): 2단계 인증(2FA) 추가그루비 5월 업데이트 알...</td>\n",
       "      <td>\\n⚡이번 업데이트로 다음과 같은 기능이 제공됩니다.\\n보안 강화를 위한 2단계 인...</td>\n",
       "      <td>2023/05/30</td>\n",
       "      <td>그루비의 업데이트로 2단계 인증(2FA) 기능이 추가되어 보안이 더욱 강화됐다. G...</td>\n",
       "      <td>그루비 5월 업데이트 알림(2): 2단계 인증(2FA) 추가그루비 5월 업데이트 알...</td>\n",
       "      <td>518</td>\n",
       "    </tr>\n",
       "  </tbody>\n",
       "</table>\n",
       "</div>"
      ],
      "text/plain": [
       "                                         url_address  \\\n",
       "0  https://groobee.net/2023/06/09/%eb%94%94%ec%a7...   \n",
       "1  https://groobee.net/2023/06/07/%ea%b7%b8%eb%a3...   \n",
       "2  https://groobee.net/2023/06/05/%eb%b8%94%eb%a1...   \n",
       "3  https://groobee.net/2023/05/31/%ec%88%8f%ed%8f...   \n",
       "4  https://groobee.net/2023/05/30/%ea%b7%b8%eb%a3...   \n",
       "\n",
       "                                               title  \\\n",
       "0  [디지털데일리] 플래티어, AI 기반 초개인화 통한 이커머스 혁신 방법은?[디지털데...   \n",
       "1  그루비, ‘이미지 기반 유사 상품 추천 서비스’ 기능 제공 소식!그루비, ‘이미지 ...   \n",
       "2  [블로터] 고객마다 쇼핑몰 페이지가 바뀐다, 플래티어 ‘그루비’[블로터] 고객마다 ...   \n",
       "3                 숏폼 콘텐츠로 Z세대를 잡아라!숏폼 콘텐츠로 Z세대를 잡아라!   \n",
       "4  그루비 5월 업데이트 알림(2): 2단계 인증(2FA) 추가그루비 5월 업데이트 알...   \n",
       "\n",
       "                                             context        date  \\\n",
       "0  \\n안녕하세요. 그루비입니다. 그루비가 지난 5월30일  IT전문 매체 <디지털데일...  2023/06/09   \n",
       "1  \\n\\n그루비는 고객사분들이 최상의 쇼핑 경험을 제공할 수 있도록 추천 알고리즘 고...  2023/06/07   \n",
       "2  \\n\\n안녕하세요. 그루비입니다. 그루비가 지난 5월25일  IT전문 매체 <블로터...  2023/06/05   \n",
       "3  \\n최근 대학내일20대연구소의 조사 결과에 따르면, Z세대의 숏폼 콘텐츠 하루 평균...  2023/05/31   \n",
       "4  \\n⚡이번 업데이트로 다음과 같은 기능이 제공됩니다.\\n보안 강화를 위한 2단계 인...  2023/05/30   \n",
       "\n",
       "                                     content_summary  \\\n",
       "0  그루비는 AI 기반의 초개인화 마케팅을 제공하는 전문 솔루션으로 D2C 브랜드 및 ...   \n",
       "1  한국의 온라인 쇼핑몰 그루비는 선호 데이터가 없는 경우 ‘상품 이미지’만을 이용해 ...   \n",
       "2  그루비는 IT전문 매체 <블로터>에 실려 \"다이내믹 UI\"기능을 통해 고객의 행동 ...   \n",
       "3  최근 대학내일20대연구소의 조사 결과에 따르면, Z세대의 숏폼 콘텐츠 하루 평균 시...   \n",
       "4  그루비의 업데이트로 2단계 인증(2FA) 기능이 추가되어 보안이 더욱 강화됐다. G...   \n",
       "\n",
       "                                     context_summary  tokens  \n",
       "0  [디지털데일리] 플래티어, AI 기반 초개인화 통한 이커머스 혁신 방법은?[디지털데...     791  \n",
       "1  그루비, ‘이미지 기반 유사 상품 추천 서비스’ 기능 제공 소식!그루비, ‘이미지 ...     686  \n",
       "2  [블로터] 고객마다 쇼핑몰 페이지가 바뀐다, 플래티어 ‘그루비’[블로터] 고객마다 ...     705  \n",
       "3  숏폼 콘텐츠로 Z세대를 잡아라!숏폼 콘텐츠로 Z세대를 잡아라!\\n2023/05/31...     612  \n",
       "4  그루비 5월 업데이트 알림(2): 2단계 인증(2FA) 추가그루비 5월 업데이트 알...     518  "
      ]
     },
     "metadata": {},
     "output_type": "display_data"
    }
   ],
   "source": [
    "data.head()"
   ]
  },
  {
   "cell_type": "code",
   "execution_count": null,
   "metadata": {},
   "outputs": [
    {
     "name": "stdout",
     "output_type": "stream",
     "text": [
      "1. 그루비의 개인화 상품 추천 시스템은 어떤 특징을 가지고 있나요?\n",
      "2. 그루비가 사용하는 AI 알고리즘은 어떤 것들이 있나요?\n",
      "3. 그루비의 차별화된 전략적인 추천 서비스는 어떤 방식으로 이루어지나요?\n",
      "4. 그루비의 추천 알고리즘은 업종에 따라서 어떻게 다르게 적용되나요?\n",
      "5. 그루비는 어떻게 쉽고 빠르게 추천 서비스를 시작할 수 있게 해주나요?\n"
     ]
    }
   ],
   "source": [
    "print(data[['questions']].values[0][0])"
   ]
  },
  {
   "cell_type": "code",
   "execution_count": null,
   "metadata": {},
   "outputs": [],
   "source": [
    "def get_answers(row):\n",
    "    try:\n",
    "        messages = [{\"role\": \"user\", \"content\": \"다음 문장에서 질문에 대한 답을 만들어줘\"},\n",
    "                    {'role': 'assistant', 'content': f\"문장: {row.context_summary}\\n\\n\"},\n",
    "                    {'role': 'assistant', 'content': f\"질문: {row.questions}\\n\\n\"},\n",
    "                    {\"role\": \"user\", \"content\": \"질문에 대한 답: \"}\n",
    "                    ]\n",
    "    \n",
    "        completion = openai.ChatCompletion.create(model = 'gpt-3.5-turbo', messages = messages)\n",
    "\n",
    "        return completion['choices'][0].message['content'].strip()\n",
    "\n",
    "    except Exception as e:\n",
    "        print (e)\n",
    "        return \"\""
   ]
  },
  {
   "cell_type": "code",
   "execution_count": null,
   "metadata": {},
   "outputs": [],
   "source": [
    "data['answers']= data.apply(get_answers, axis=1)"
   ]
  },
  {
   "cell_type": "code",
   "execution_count": null,
   "metadata": {},
   "outputs": [
    {
     "data": {
      "text/html": [
       "<div>\n",
       "<style scoped>\n",
       "    .dataframe tbody tr th:only-of-type {\n",
       "        vertical-align: middle;\n",
       "    }\n",
       "\n",
       "    .dataframe tbody tr th {\n",
       "        vertical-align: top;\n",
       "    }\n",
       "\n",
       "    .dataframe thead th {\n",
       "        text-align: right;\n",
       "    }\n",
       "</style>\n",
       "<table border=\"1\" class=\"dataframe\">\n",
       "  <thead>\n",
       "    <tr style=\"text-align: right;\">\n",
       "      <th></th>\n",
       "      <th>title</th>\n",
       "      <th>date</th>\n",
       "      <th>content</th>\n",
       "      <th>content_summary</th>\n",
       "      <th>context_summary</th>\n",
       "      <th>tokens</th>\n",
       "      <th>questions</th>\n",
       "      <th>answers</th>\n",
       "    </tr>\n",
       "  </thead>\n",
       "  <tbody>\n",
       "    <tr>\n",
       "      <th>0</th>\n",
       "      <td>그루비 소개 #3. 개인화 상품 추천편</td>\n",
       "      <td>2023-04-18</td>\n",
       "      <td>개인화 상품 추천이란?  일반적인 인기 상품 중심의 추천이 아닌 고객 행동과 취향,...</td>\n",
       "      <td>개인화 상품 추천은 고객의 행동과 취향, 속성을 고려하여 맞춤형 상품을 추천하는 것...</td>\n",
       "      <td>그루비 소개 #3. 개인화 상품 추천편\\n2023-04-18\\n\\n개인화 상품 추천...</td>\n",
       "      <td>531</td>\n",
       "      <td>1. 그루비의 개인화 상품 추천 시스템은 어떤 특징을 가지고 있나요?\\n2. 그루비...</td>\n",
       "      <td>1. 그루비의 개인화 상품 추천 시스템은 고객의 행동과 취향, 속성을 고려해 맞춤형...</td>\n",
       "    </tr>\n",
       "    <tr>\n",
       "      <th>1</th>\n",
       "      <td>그루비 4월 업데이트 알림: 기획전 알고리즘 추가 및 푸시 기능 개선</td>\n",
       "      <td>2023-04-13</td>\n",
       "      <td>⚡이번 업데이트로 다음과 같은 기능이 제공됩니다. ‘딥러닝 기반 연관 기획전’, ‘...</td>\n",
       "      <td>그루비에서는 업데이트로 딥러닝 기반 연관 기획전과 많이 본 기획전 TOP N 알고리...</td>\n",
       "      <td>그루비 4월 업데이트 알림: 기획전 알고리즘 추가 및 푸시 기능 개선\\n2023-0...</td>\n",
       "      <td>632</td>\n",
       "      <td>1. 그루비가 4월에 무엇을 업데이트했는가?\\n2. 새로 추가된 딥러닝 기반 연관 ...</td>\n",
       "      <td>1. 그루비는 딥러닝 기반 연관 기획전과 많이 본 기획전 TOP N 알고리즘을 추가...</td>\n",
       "    </tr>\n",
       "    <tr>\n",
       "      <th>2</th>\n",
       "      <td>그루비 단어 서랍 세그먼테이션</td>\n",
       "      <td>2023-04-07</td>\n",
       "      <td>그루비 단어 서랍 세그먼테이션  세그먼테이션이란 고객 속성, 행동, 상황 등 다양한...</td>\n",
       "      <td>세그먼테이션은 고객 데이터를 기반으로 고객을 분류하는 작업으로, 마케터는 유사한 특...</td>\n",
       "      <td>그루비 단어 서랍 세그먼테이션\\n2023-04-07\\n\\n세그먼테이션은 고객 데이터...</td>\n",
       "      <td>631</td>\n",
       "      <td>1. 세그먼테이션은 무엇을 기반으로 고객을 분류하는 작업인가요?\\n2. 마케터는 세...</td>\n",
       "      <td>1. 세그먼테이션은 고객 데이터를 기반으로 고객을 분류하는 작업입니다.\\n2. 마케...</td>\n",
       "    </tr>\n",
       "    <tr>\n",
       "      <th>3</th>\n",
       "      <td>그루비 고객사 교육 | 현대백화점그룹</td>\n",
       "      <td>2023-04-03</td>\n",
       "      <td>지난 3월 21일, 그루비에서는 현대백화점그룹 직원분들을 모시고 ‘GROOBEE M...</td>\n",
       "      <td>그루비에서는 현대백화점그룹 직원들을 대상으로 GROOBEE MA 입문 교육을 진행했...</td>\n",
       "      <td>그루비 고객사 교육 | 현대백화점그룹\\n2023-04-03\\n\\n그루비에서는 현대백...</td>\n",
       "      <td>380</td>\n",
       "      <td>1. 언제 그루비에서 현대백화점그룹 직원들을 대상으로 교육을 진행했나요?\\n2. 그...</td>\n",
       "      <td>1. 그루비는 2023년 4월 3일 현대백화점그룹 직원들을 대상으로 교육을 진행했습...</td>\n",
       "    </tr>\n",
       "    <tr>\n",
       "      <th>4</th>\n",
       "      <td>그루비 단어 서랍 RFM</td>\n",
       "      <td>2023-03-29</td>\n",
       "      <td>RFM은 고객별로 얼마나 최근에, 얼마나 자주, 얼마나 많은 금액을 지출했는지에 따...</td>\n",
       "      <td>RFM은 Recency, Frequency, Monetary의 약어로 고객의 최근 ...</td>\n",
       "      <td>그루비 단어 서랍 RFM\\n2023-03-29\\n\\nRFM은 Recency, Fre...</td>\n",
       "      <td>412</td>\n",
       "      <td>1. RFM이란 무엇을 의미하는가?\\n2. RFM을 이용한 마케팅 분석 기법은 무엇...</td>\n",
       "      <td>1. RFM은 Recency, Frequency, Monetary의 약어로 고객의 ...</td>\n",
       "    </tr>\n",
       "    <tr>\n",
       "      <th>5</th>\n",
       "      <td>이커머스 마케팅을 위한 고객 분석 프레임워크 활용하기 (3)</td>\n",
       "      <td>2023-03-27</td>\n",
       "      <td>고객 관찰을 통해 가설을 세웠다면 이를 해석하고 검증하는 작업을 진행해야 합니다. ...</td>\n",
       "      <td>고객 관찰을 토대로 가설을 세우고, 이를 검증하는 작업을 해야 한다. 가설을 구체화...</td>\n",
       "      <td>이커머스 마케팅을 위한 고객 분석 프레임워크 활용하기 (3)\\n2023-03-27\\...</td>\n",
       "      <td>632</td>\n",
       "      <td>1. 이커머스 마케팅을 위한 고객 분석 프레임워크를 활용한다는 것은 어떤 것을 의미...</td>\n",
       "      <td>1. 이커머스 마케팅을 위한 고객 분석 프레임워크를 활용한다는 것은 고객 데이터를 ...</td>\n",
       "    </tr>\n",
       "  </tbody>\n",
       "</table>\n",
       "</div>"
      ],
      "text/plain": [
       "                                    title        date  \\\n",
       "0                   그루비 소개 #3. 개인화 상품 추천편  2023-04-18   \n",
       "1  그루비 4월 업데이트 알림: 기획전 알고리즘 추가 및 푸시 기능 개선  2023-04-13   \n",
       "2                        그루비 단어 서랍 세그먼테이션  2023-04-07   \n",
       "3                    그루비 고객사 교육 | 현대백화점그룹  2023-04-03   \n",
       "4                           그루비 단어 서랍 RFM  2023-03-29   \n",
       "5       이커머스 마케팅을 위한 고객 분석 프레임워크 활용하기 (3)  2023-03-27   \n",
       "\n",
       "                                             content  \\\n",
       "0  개인화 상품 추천이란?  일반적인 인기 상품 중심의 추천이 아닌 고객 행동과 취향,...   \n",
       "1  ⚡이번 업데이트로 다음과 같은 기능이 제공됩니다. ‘딥러닝 기반 연관 기획전’, ‘...   \n",
       "2  그루비 단어 서랍 세그먼테이션  세그먼테이션이란 고객 속성, 행동, 상황 등 다양한...   \n",
       "3  지난 3월 21일, 그루비에서는 현대백화점그룹 직원분들을 모시고 ‘GROOBEE M...   \n",
       "4  RFM은 고객별로 얼마나 최근에, 얼마나 자주, 얼마나 많은 금액을 지출했는지에 따...   \n",
       "5  고객 관찰을 통해 가설을 세웠다면 이를 해석하고 검증하는 작업을 진행해야 합니다. ...   \n",
       "\n",
       "                                     content_summary  \\\n",
       "0  개인화 상품 추천은 고객의 행동과 취향, 속성을 고려하여 맞춤형 상품을 추천하는 것...   \n",
       "1  그루비에서는 업데이트로 딥러닝 기반 연관 기획전과 많이 본 기획전 TOP N 알고리...   \n",
       "2  세그먼테이션은 고객 데이터를 기반으로 고객을 분류하는 작업으로, 마케터는 유사한 특...   \n",
       "3  그루비에서는 현대백화점그룹 직원들을 대상으로 GROOBEE MA 입문 교육을 진행했...   \n",
       "4  RFM은 Recency, Frequency, Monetary의 약어로 고객의 최근 ...   \n",
       "5  고객 관찰을 토대로 가설을 세우고, 이를 검증하는 작업을 해야 한다. 가설을 구체화...   \n",
       "\n",
       "                                     context_summary  tokens  \\\n",
       "0  그루비 소개 #3. 개인화 상품 추천편\\n2023-04-18\\n\\n개인화 상품 추천...     531   \n",
       "1  그루비 4월 업데이트 알림: 기획전 알고리즘 추가 및 푸시 기능 개선\\n2023-0...     632   \n",
       "2  그루비 단어 서랍 세그먼테이션\\n2023-04-07\\n\\n세그먼테이션은 고객 데이터...     631   \n",
       "3  그루비 고객사 교육 | 현대백화점그룹\\n2023-04-03\\n\\n그루비에서는 현대백...     380   \n",
       "4  그루비 단어 서랍 RFM\\n2023-03-29\\n\\nRFM은 Recency, Fre...     412   \n",
       "5  이커머스 마케팅을 위한 고객 분석 프레임워크 활용하기 (3)\\n2023-03-27\\...     632   \n",
       "\n",
       "                                           questions  \\\n",
       "0  1. 그루비의 개인화 상품 추천 시스템은 어떤 특징을 가지고 있나요?\\n2. 그루비...   \n",
       "1  1. 그루비가 4월에 무엇을 업데이트했는가?\\n2. 새로 추가된 딥러닝 기반 연관 ...   \n",
       "2  1. 세그먼테이션은 무엇을 기반으로 고객을 분류하는 작업인가요?\\n2. 마케터는 세...   \n",
       "3  1. 언제 그루비에서 현대백화점그룹 직원들을 대상으로 교육을 진행했나요?\\n2. 그...   \n",
       "4  1. RFM이란 무엇을 의미하는가?\\n2. RFM을 이용한 마케팅 분석 기법은 무엇...   \n",
       "5  1. 이커머스 마케팅을 위한 고객 분석 프레임워크를 활용한다는 것은 어떤 것을 의미...   \n",
       "\n",
       "                                             answers  \n",
       "0  1. 그루비의 개인화 상품 추천 시스템은 고객의 행동과 취향, 속성을 고려해 맞춤형...  \n",
       "1  1. 그루비는 딥러닝 기반 연관 기획전과 많이 본 기획전 TOP N 알고리즘을 추가...  \n",
       "2  1. 세그먼테이션은 고객 데이터를 기반으로 고객을 분류하는 작업입니다.\\n2. 마케...  \n",
       "3  1. 그루비는 2023년 4월 3일 현대백화점그룹 직원들을 대상으로 교육을 진행했습...  \n",
       "4  1. RFM은 Recency, Frequency, Monetary의 약어로 고객의 ...  \n",
       "5  1. 이커머스 마케팅을 위한 고객 분석 프레임워크를 활용한다는 것은 고객 데이터를 ...  "
      ]
     },
     "metadata": {},
     "output_type": "display_data"
    }
   ],
   "source": [
    "data"
   ]
  },
  {
   "cell_type": "code",
   "execution_count": null,
   "metadata": {},
   "outputs": [
    {
     "name": "stdout",
     "output_type": "stream",
     "text": [
      "1. 그루비가 4월에 무엇을 업데이트했는가?\n",
      "2. 새로 추가된 딥러닝 기반 연관 기획전과 많이 본 기획전 TOP N 알고리즘은 어디에서 추천되는가?\n",
      "3. 푸시 수신에 동의한 모든 사용자에게 가능해진 것은 무엇인가?\n",
      "4. 회원 번호(ID)를 업로드하더라도 푸시 발송이 불가능한 경우는 어떤 경우인가?\n",
      "5. 그루비 SDK란 무엇인가?\n"
     ]
    }
   ],
   "source": [
    "print(data[['questions']].values[1][0])"
   ]
  },
  {
   "cell_type": "code",
   "execution_count": null,
   "metadata": {},
   "outputs": [
    {
     "name": "stdout",
     "output_type": "stream",
     "text": [
      "1. 그루비는 딥러닝 기반 연관 기획전과 많이 본 기획전 TOP N 알고리즘을 추가하고, 푸시 기능을 개선했다.\n",
      "2. 추가된 알고리즘은 모든 페이지에서 추천할 수 있게 되었다.\n",
      "3. 이제 푸시 수신에 동의한 모든 사용자에게 푸시 전체 발송이 가능해졌다.\n",
      "4. 회원 번호(ID)를 업로드해도 해당 회원의 푸시 토큰 정보가 없으면 푸시 발송이 불가능하다.\n",
      "5. 그루비 SDK란, 그루비와 다른 앱 또는 웹사이트를 연동시키는 솔루션이다.\n"
     ]
    }
   ],
   "source": [
    "print(data[['answers']].values[1][0])"
   ]
  },
  {
   "cell_type": "code",
   "execution_count": null,
   "metadata": {},
   "outputs": [
    {
     "data": {
      "text/plain": [
       "(6, 8)"
      ]
     },
     "metadata": {},
     "output_type": "display_data"
    }
   ],
   "source": [
    "data.shape"
   ]
  },
  {
   "cell_type": "code",
   "execution_count": null,
   "metadata": {},
   "outputs": [],
   "source": [
    "data.to_csv('groobee_qa.csv', index=False)"
   ]
  },
  {
   "attachments": {},
   "cell_type": "markdown",
   "metadata": {},
   "source": []
  },
  {
   "cell_type": "code",
   "execution_count": null,
   "metadata": {},
   "outputs": [
    {
     "name": "stdout",
     "output_type": "stream",
     "text": [
      "1. 이커머스 마케팅을 위한 고객 분석 프레임워크를 활용한다는 것은 고객 데이터를 다양한 방법으로 분석하여, 마케팅 전략 수립과 실행에 활용하는 것을 의미한다.\n",
      "2. 고객 분석을 위해 가장 좋은 데이터는 고객들의 행동 로그 데이터 등 기본적인 데이터이다.\n",
      "3. 세부적인 것에 치우치게 되면, 전체적인 분석을 놓치게 될 위험이 있어 제대로 된 가설 검증이 이루어지지 않을 수 있다.\n",
      "4. 가설 검증 기준을 사전에 정하는 것은 데이터 분석을 진행할 때 목적성과 효율성을 높여줄 수 있다.\n",
      "5. 필요한 데이터를 쉽게 얻을 수 있는 기술이나 툴로는 구글 애널리틱스, 키워드 프러너 등이 있다.\n"
     ]
    }
   ],
   "source": [
    "print(data['answers'][5])"
   ]
  },
  {
   "cell_type": "code",
   "execution_count": null,
   "metadata": {},
   "outputs": [],
   "source": [
    "groobee_search_fileid = \"file-c3shd8wqF3vSCKaukW4Jr1TT\""
   ]
  },
  {
   "cell_type": "code",
   "execution_count": null,
   "metadata": {},
   "outputs": [],
   "source": [
    "import random\n",
    "\n",
    "def get_random_similar_contexts(question, context_summary, file_id=groobee_search_fileid, search_model='ada', max_rerank=10):\n",
    "    \"\"\"\n",
    "    Find similar contexts to the given context using the search file\n",
    "    \"\"\"\n",
    "    try:\n",
    "        results = openai.Engine(search_model).search(\n",
    "            search_model=search_model, \n",
    "            query=question, \n",
    "            max_rerank=max_rerank,\n",
    "            file=file_id\n",
    "        )\n",
    "        candidates = []\n",
    "        for result in results['data'][:3]:\n",
    "            if result['text'] == context_summary:\n",
    "                continue\n",
    "            candidates.append(result['text'])\n",
    "        random_candidate = random.choice(candidates)\n",
    "        return random_candidate\n",
    "    except Exception as e:\n",
    "        print(e)\n",
    "        return \"\"\n",
    "\n",
    "def create_fine_tuning_dataset(df, discriminator=False, n_negative=1, add_related=False):\n",
    "    \"\"\"\n",
    "    Create a dataset for fine tuning the OpenAI model; either for a discriminator model, \n",
    "    or a model specializing in Q&A, where it says if no relevant context is found.\n",
    "\n",
    "    Parameters\n",
    "    ----------\n",
    "    df: pd.DataFrame\n",
    "        The dataframe containing the question, answer and context pairs\n",
    "    discriminator: bool\n",
    "        Whether to create a dataset for the discriminator\n",
    "    n_negative: int\n",
    "        The number of random negative samples to add (using a random context)\n",
    "    add_related: bool\n",
    "        Whether to add the related contexts to the correct context. These are hard negative examples\n",
    "\n",
    "    Returns\n",
    "    -------\n",
    "    pd.DataFrame\n",
    "        The dataframe containing the prompts and completions, ready for fine-tuning\n",
    "    \"\"\"\n",
    "    rows = []\n",
    "    for i, row in df.iterrows():\n",
    "        for q, a in zip((row.questions).split('\\n'), (row.answers).split('\\n')):\n",
    "            if len(q) >5 and len(a) >5:\n",
    "                if discriminator:\n",
    "                    rows.append({\"prompt\":f\"{row.context_summary}\\nQuestion: {q[2:].strip()}\\n Related:\", \"completion\":f\" yes\"})\n",
    "                else:\n",
    "                    rows.append({\"prompt\":f\"{row.context_summary}\\nQuestion: {q[2:].strip()}\\nAnswer:\", \"completion\":f\" {a[2:].strip()}\"})\n",
    "                    rows.append({\"prompt\":f\"Question: {q[2:].strip()}\\nAnswer:\", \"completion\":f\" {a[2:].strip()}\"})\n",
    "\n",
    "    # for i, row in df.iterrows():\n",
    "    #     for q in (\"1.\" + row.questions).split('\\n'):\n",
    "    #         if len(q) >10:\n",
    "    #             for j in range(n_negative + (2 if add_related else 0)):\n",
    "    #                 random_context = \"\"\n",
    "    #                 if j == 0 and add_related:\n",
    "    #                     # add the related contexts based on originating from the same wikipedia page\n",
    "    #                     subset = df[(df.title == row.title) & (df.context_summary != row.context_summary)]\n",
    "                        \n",
    "    #                     if len(subset) < 1:\n",
    "    #                         continue\n",
    "    #                     random_context = subset.sample(1).iloc[0].context_summary\n",
    "    #                 if j == 1 and add_related:\n",
    "    #                     # add the related contexts based on the most similar contexts according to the search\n",
    "    #                     random_context = get_random_similar_contexts(q[2:].strip(), row.context_summary, search_model='ada', max_rerank=10)\n",
    "    #                 else:\n",
    "    #                     while True:\n",
    "    #                         # add random context, which isn't the correct context\n",
    "    #                         random_context = df.sample(1).iloc[0].context_summary\n",
    "    #                         if random_context != row.context_summary:\n",
    "    #                             break\n",
    "    #                 if discriminator:\n",
    "    #                     rows.append({\"prompt\":f\"{random_context}\\nQuestion: {q[2:].strip()}\\n Related:\", \"completion\":f\" no\"})\n",
    "    #                 else:\n",
    "    #                     rows.append({\"prompt\":f\"{random_context}\\nQuestion: {q[2:].strip()}\\nAnswer:\", \"completion\":f\" {a[2:].strip()}\"})\n",
    "\n",
    "    return pd.DataFrame(rows) "
   ]
  },
  {
   "cell_type": "code",
   "execution_count": null,
   "metadata": {},
   "outputs": [
    {
     "data": {
      "text/plain": [
       "(4, 2)"
      ]
     },
     "metadata": {},
     "output_type": "display_data"
    }
   ],
   "source": [
    "from sklearn.model_selection import train_test_split\n",
    "train_df, test_df = train_test_split(data, test_size=0.2, random_state=42)\n",
    "len(train_df), len(test_df)"
   ]
  },
  {
   "cell_type": "code",
   "execution_count": null,
   "metadata": {},
   "outputs": [],
   "source": [
    "import json\n",
    "\n",
    "for name, is_disc in [('discriminator', True), ('qa', False)]:\n",
    "    for train_test, dt in [('train', train_df), ('test', test_df)]:\n",
    "        ft = create_fine_tuning_dataset(dt, discriminator=is_disc, n_negative=1, add_related=True)\n",
    "        file_name = f'{name}_{train_test}.jsonl'\n",
    "\n",
    "        with open(file_name, 'w', encoding='utf-8') as f:\n",
    "            for _, row in ft.iterrows():\n",
    "                json.dump(row.to_dict(), f, ensure_ascii=False)\n",
    "                f.write('\\n')\n"
   ]
  },
  {
   "cell_type": "code",
   "execution_count": null,
   "metadata": {},
   "outputs": [],
   "source": []
  },
  {
   "cell_type": "code",
   "execution_count": null,
   "metadata": {},
   "outputs": [],
   "source": [
    "# !openai api fine_tunes.create -t \"discriminator_train.jsonl\" -v \"discriminator_test.jsonl\" --batch_size 16  --compute_classification_metrics --classification_positive_class \" yes\" --model ada"
   ]
  },
  {
   "cell_type": "code",
   "execution_count": null,
   "metadata": {},
   "outputs": [],
   "source": [
    "# !openai api fine_tunes.create -t \"qa_train.jsonl\" -v \"qa_test.jsonl\" --batch_size 16"
   ]
  },
  {
   "cell_type": "code",
   "execution_count": null,
   "metadata": {},
   "outputs": [
    {
     "data": {
      "text/plain": [
       "' 최근 제공되고 그루비의 서비스는 가장 많이 사용되었습니다. 그루비의 서비스는 가장 많이 사용되었습니다. 그루비의 서비스는 가장 많이 사용되었습니다. 그루비의 서'"
      ]
     },
     "metadata": {},
     "output_type": "display_data"
    }
   ],
   "source": [
    "ft_qa = \"curie:ft-personal-2023-06-13-06-28-34\"\n",
    "\n",
    "def apply_ft_qa_answer(question, answering_model):\n",
    "    \"\"\"\n",
    "    Apply the fine tuned discriminator to a question\n",
    "    \"\"\"\n",
    "    prompt = f\"Question: {question}\\nAnswer:\"\n",
    "    result = openai.Completion.create(model=answering_model, prompt=prompt, max_tokens=200, temperature=0, top_p=1, n=1)#, stop=['.','\\n'])\n",
    "    return result['choices'][0]['text']\n",
    "\n",
    "# apply_ft_qa_answer('그루비는 어떤 서비스를 제공하고 있나요?', ft_qa)\n",
    "apply_ft_qa_answer('최근 제공되고 그루비의 서비스는?', ft_qa)"
   ]
  },
  {
   "cell_type": "code",
   "execution_count": null,
   "metadata": {},
   "outputs": [
    {
     "data": {
      "text/plain": [
       "''"
      ]
     },
     "metadata": {},
     "output_type": "display_data"
    }
   ],
   "source": [
    "ft_model = 'curie:ft-personal-2023-06-13-02-12-35'\n",
    "res = openai.Completion.create(model=ft_model, prompt=f\"Question: 그루비 서비스란?\\nAnswer:\" + '\\n\\n###\\n\\n', max_tokens=1, temperature=0)\n",
    "res['choices'][0]['text']"
   ]
  }
 ],
 "metadata": {
  "language_info": {
   "name": "python"
  },
  "orig_nbformat": 4
 },
 "nbformat": 4,
 "nbformat_minor": 2
}
